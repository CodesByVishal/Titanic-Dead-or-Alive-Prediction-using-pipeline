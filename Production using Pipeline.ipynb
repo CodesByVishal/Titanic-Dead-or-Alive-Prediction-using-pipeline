{
 "cells": [
  {
   "cell_type": "code",
   "execution_count": 1,
   "id": "8a56d432-9cf4-49b1-bb92-1a2cac2a064e",
   "metadata": {},
   "outputs": [],
   "source": [
    "import numpy as np\n",
    "import pickle "
   ]
  },
  {
   "cell_type": "code",
   "execution_count": 2,
   "id": "191be70c-22d3-49ce-814d-af522e1ffca7",
   "metadata": {},
   "outputs": [],
   "source": [
    "pipe = pickle.load(open('pipe.pkl','rb'))"
   ]
  },
  {
   "cell_type": "markdown",
   "id": "4920fe48-23a9-4058-9060-a4b1ff63be04",
   "metadata": {},
   "source": [
    "### Assuming the user input for new prediction\n"
   ]
  },
  {
   "cell_type": "code",
   "execution_count": 6,
   "id": "a3a21376-7c92-46ad-963f-90a36a259781",
   "metadata": {},
   "outputs": [],
   "source": [
    "test_input = np.array([2, 'male',22.0,0,0,7.2500,'S'],dtype =object).reshape(1,7)\n",
    "# using data from csv itself --(0th index)->\t0(D/A)\t3\tmale\t22.0\t1\t0\t7.2500\tS"
   ]
  },
  {
   "cell_type": "code",
   "execution_count": 7,
   "id": "2692b096-d04a-486d-920e-e3c1c62f2853",
   "metadata": {},
   "outputs": [
    {
     "name": "stderr",
     "output_type": "stream",
     "text": [
      "C:\\ProgramData\\anaconda3\\Lib\\site-packages\\sklearn\\base.py:439: UserWarning: X does not have valid feature names, but SimpleImputer was fitted with feature names\n",
      "  warnings.warn(\n",
      "C:\\ProgramData\\anaconda3\\Lib\\site-packages\\sklearn\\base.py:439: UserWarning: X does not have valid feature names, but SimpleImputer was fitted with feature names\n",
      "  warnings.warn(\n"
     ]
    },
    {
     "data": {
      "text/plain": [
       "array([0], dtype=int64)"
      ]
     },
     "execution_count": 7,
     "metadata": {},
     "output_type": "execute_result"
    }
   ],
   "source": [
    "pipe.predict(test_input)"
   ]
  },
  {
   "cell_type": "code",
   "execution_count": null,
   "id": "41df1c55-b686-4396-ad78-614e835c3cac",
   "metadata": {},
   "outputs": [],
   "source": []
  }
 ],
 "metadata": {
  "kernelspec": {
   "display_name": "Python 3 (ipykernel)",
   "language": "python",
   "name": "python3"
  },
  "language_info": {
   "codemirror_mode": {
    "name": "ipython",
    "version": 3
   },
   "file_extension": ".py",
   "mimetype": "text/x-python",
   "name": "python",
   "nbconvert_exporter": "python",
   "pygments_lexer": "ipython3",
   "version": "3.11.7"
  }
 },
 "nbformat": 4,
 "nbformat_minor": 5
}
